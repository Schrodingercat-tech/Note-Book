{
  "nbformat": 4,
  "nbformat_minor": 0,
  "metadata": {
    "colab": {
      "provenance": [],
      "authorship_tag": "ABX9TyOK5yoqGuQX76nBIhEZcEif",
      "include_colab_link": true
    },
    "kernelspec": {
      "name": "python3",
      "display_name": "Python 3"
    },
    "language_info": {
      "name": "python"
    }
  },
  "cells": [
    {
      "cell_type": "markdown",
      "metadata": {
        "id": "view-in-github",
        "colab_type": "text"
      },
      "source": [
        "<a href=\"https://colab.research.google.com/github/Schrodingercat-tech/Note-Book/blob/main/text2speech.ipynb\" target=\"_parent\"><img src=\"https://colab.research.google.com/assets/colab-badge.svg\" alt=\"Open In Colab\"/></a>"
      ]
    },
    {
      "cell_type": "code",
      "execution_count": 10,
      "metadata": {
        "colab": {
          "base_uri": "https://localhost:8080/"
        },
        "id": "2QWopxicEnw-",
        "outputId": "fdfca85c-e5ae-4a68-eda7-f30f72f2f4ab"
      },
      "outputs": [
        {
          "output_type": "stream",
          "name": "stdout",
          "text": [
            "Requirement already satisfied: pyttsx3 in /usr/local/lib/python3.10/dist-packages (2.90)\n"
          ]
        }
      ],
      "source": [
        "!pip install pyttsx3"
      ]
    },
    {
      "cell_type": "code",
      "source": [
        "import pyttsx3\n",
        "\n",
        "def speak(text:str,rate:float=185.9,volume:float=1.0,pitch:float=0,voiceID:int =2):\n",
        "    engine = pyttsx3.init()\n",
        "    engine.setProperty('rate', rate) # speech rate\n",
        "    engine.setProperty('volume', volume)\n",
        "    voices = engine.getProperty('voices') # voice type\n",
        "    engine.setProperty('voice', voices[voiceID].id)\n",
        "    engine.setProperty('pitch', pitch)\n",
        "    engine.say(text)\n",
        "    engine.runAndWait()"
      ],
      "metadata": {
        "id": "WWu3Z0P6FAQ8"
      },
      "execution_count": 11,
      "outputs": []
    },
    {
      "cell_type": "code",
      "source": [
        "text = \"\"\"I do not know what I may appear to the world,\n",
        "          but to myself I seem to have been only like a boy playing on the seashore,\n",
        "          and diverting myself in now and then finding a smoother pebble or a prettier shell than ordinary,\n",
        "          whilst the great ocean of truth lay all undiscovered before me.\"\"\""
      ],
      "metadata": {
        "id": "D7IHnaJjFCHo"
      },
      "execution_count": 12,
      "outputs": []
    },
    {
      "cell_type": "code",
      "source": [
        "# you must run this code in local machine and must have access to speaker\n",
        "#speak(text)"
      ],
      "metadata": {
        "id": "xTnUzn2ZF1PB"
      },
      "execution_count": 13,
      "outputs": []
    }
  ]
}