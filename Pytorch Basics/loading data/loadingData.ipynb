{
 "cells": [
  {
   "cell_type": "code",
   "execution_count": 23,
   "metadata": {},
   "outputs": [],
   "source": [
    "from torchvision import datasets,transforms\n",
    "from torch.utils.data import DataLoader,random_split"
   ]
  },
  {
   "cell_type": "code",
   "execution_count": 30,
   "metadata": {},
   "outputs": [
    {
     "data": {
      "text/plain": [
       "1980"
      ]
     },
     "execution_count": 30,
     "metadata": {},
     "output_type": "execute_result"
    }
   ],
   "source": [
    "transform =transforms.Compose([\n",
    "    transforms.ToTensor(),\n",
    "    transforms.Normalize(mean=(.5,.5,.5),std=(.5,.5,.5)),\n",
    "    transforms.RandomRotation((-30,30))\n",
    "])\n",
    "path = './pepper/'\n",
    "data = datasets.ImageFolder(\n",
    "    root=path,\n",
    "    transform=transform\n",
    ")\n",
    "train_size = int(.8*len(data))\n",
    "test_size = int(len(data)-train_size)\n",
    "train_set,test_set = random_split(data,[train_size,test_size])\n",
    "\n",
    "train_loader   = DataLoader(train_set,shuffle=True,num_workers=5)\n",
    "train_loader.__len__()"
   ]
  }
 ],
 "metadata": {
  "kernelspec": {
   "display_name": "Python 3",
   "language": "python",
   "name": "python3"
  },
  "language_info": {
   "codemirror_mode": {
    "name": "ipython",
    "version": 3
   },
   "file_extension": ".py",
   "mimetype": "text/x-python",
   "name": "python",
   "nbconvert_exporter": "python",
   "pygments_lexer": "ipython3",
   "version": "3.11.6"
  }
 },
 "nbformat": 4,
 "nbformat_minor": 2
}
